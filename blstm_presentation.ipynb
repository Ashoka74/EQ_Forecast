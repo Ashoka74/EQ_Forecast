{
 "cells": [
  {
   "cell_type": "markdown",
   "id": "40f991ad-91cc-4bab-8daf-1fd6b4c1d8bb",
   "metadata": {},
   "source": [
    "<h1> <b>Migratory Birds for Earthquake Forecasting </b><h1> \n",
    "<h2> <b> AWS Disaster Response Hackathon <b> </h2>\n"
   ]
  },
  {
   "cell_type": "markdown",
   "id": "89fd2afe-5c9e-41af-8bca-3311cf5e161f",
   "metadata": {},
   "source": [
    "    \n",
    "<h2>Welcome to our Notebook!</h2>\n",
    "    \n",
    "<h3> Feel free to go through the Repo before starting </h3>\n",
    "    \n",
    "<h3><a href=\"url\">https://github.com/Ashoka74/EQ_Forecast</a></h3>\n",
    "    \n",
    "<h3> For more information about the background behind this project such as motivation or training/test data creation </h3>\n",
    "<h3><a href=\"url\">https://youtu.be/NBq5jFEnzyY</a></h3>\n",
    "    \n",
    "<h3> For a guided tutorial on how to run the code </h3>\n",
    "<h3><a href=\"url\">https://youtu.be/I_iIZmXBTDk</a></h3>"
   ]
  },
  {
   "cell_type": "markdown",
   "id": "57405f64-63e6-40b5-b06d-941e8c9c77e4",
   "metadata": {},
   "source": [
    "<div class=\"alert alert-block alert-info\">\n",
    "<h3>We advise to use GPU to speed up the training but CPU works as well</h3></div>\n"
   ]
  },
  {
   "cell_type": "code",
   "execution_count": null,
   "id": "e57ae61f-62d1-4594-b65f-b364b559a5c4",
   "metadata": {},
   "outputs": [],
   "source": [
    "import wandb\n",
    "from wandb.keras import WandbCallback\n",
    "import numpy as np\n",
    "import tensorflow as tf\n",
    "from tensorflow import keras\n",
    "from tensorflow.keras import layers\n",
    "import pandas as pd\n",
    "from sklearn.model_selection import train_test_split\n",
    "import keras\n",
    "from keras.models import Sequential\n",
    "from keras.layers import Dense, Dropout, LSTM, Masking, Bidirectional\n",
    "from keras.callbacks import EarlyStopping\n",
    "from keras import utils\n",
    "from keras.utils.vis_utils import plot_model\n",
    "import matplotlib.pyplot as plt"
   ]
  },
  {
   "cell_type": "markdown",
   "id": "cb83db9c-94af-4c65-acdf-6be1863e4242",
   "metadata": {},
   "source": [
    "<div class=\"alert alert-block alert-info\">\n",
    "<h3>You can change the DataSets for Training & Testing but keep the same references for each</h3></div>\n"
   ]
  },
  {
   "cell_type": "code",
   "execution_count": null,
   "id": "0fe1eac9-9aca-46d4-8408-7457e31a2a2b",
   "metadata": {},
   "outputs": [],
   "source": [
    "trainX = pd.read_csv('./Train/trainX1.csv')\n",
    "trainY = pd.read_csv('./Train/trainY1.csv')\n",
    "testX = pd.read_csv('./Test/testX1.csv')\n",
    "testY = pd.read_csv('./Test/testY1.csv')"
   ]
  },
  {
   "cell_type": "code",
   "execution_count": null,
   "id": "640879ae-5c72-469e-bbe7-2f31f4e3a223",
   "metadata": {},
   "outputs": [],
   "source": [
    "# Create model\n",
    "\n",
    "def plot_roc_curve(fpr,tpr): \n",
    "  plt.plot(fpr,tpr) \n",
    "  plt.axis([0,1,0,1]) \n",
    "  plt.xlabel('False Positive Rate') \n",
    "  plt.ylabel('True Positive Rate') \n",
    "  plt.show()    \n",
    "  \n",
    "\n",
    "for dropout in [0.1]:\n",
    "    #wandb.init(reinit=True)\n",
    "    print(\"\\n\\nTesting model with dropout = %f\\n\"%dropout)\n",
    "    model = Sequential()\n",
    "    model.add(Masking(mask_value=-10, input_shape=(541,1)))\n",
    "    model.add(Bidirectional(LSTM(units=32)))\n",
    "    model.add(Dropout(dropout))\n",
    "    model.add(Dense(1, activation='sigmoid'))\n",
    "    \n",
    "    checkpoint_filepath = 'weights.{epoch:02d}-{accuracy:.2f}-{val_accuracy:.2f}.h5'\n",
    "    \n",
    "    model_checkpoint_callback = keras.callbacks.ModelCheckpoint(\n",
    "        filepath=checkpoint_filepath,\n",
    "        monitor='accuracy',\n",
    "        mode='max',\n",
    "        save_best_only=True)\n",
    "    \n",
    "    #early_stopper = tf.keras.callbacks.EarlyStopping(monitor='loss', patience=5, restore_best_weights=False)\n",
    "        \n",
    "    model.compile(loss='binary_crossentropy', optimizer='adam', metrics=['accuracy','AUC'])\n",
    "    history = model.fit(trainX, trainY, epochs=2000, batch_size=81, validation_split=0.1, verbose=1, callbacks= [model_checkpoint_callback])\n",
    "    # Plot training & validation accuracy values\n",
    "    plt.plot(history.history['accuracy'])\n",
    "    plt.plot(history.history['val_accuracy'])\n",
    "    plt.plot(history.history['loss'])\n",
    "    plt.plot(history.history['val_loss'])\n",
    "    plt.title('Model accuracy')\n",
    "    plt.ylabel('Accuracy')\n",
    "    plt.xlabel('Epoch')\n",
    "    plt.legend(['Train', 'Val', 'Loss', 'Val_Loss'], loc='upper left')\n",
    "    plt.show()\n",
    "    model.save('model.h5')\n",
    "    #wandb.save('model.h5')\n",
    "    #wandb.finish()"
   ]
  },
  {
   "cell_type": "markdown",
   "id": "9e395f0c-3961-457f-aa1b-22adcc3765be",
   "metadata": {},
   "source": [
    "<div class=\"alert alert-block alert-info\">\n",
    "<b>ATTENTION:</b> <h3>Load the checkpoint returning the best accuracy on training and valiation sets</h3></div>"
   ]
  },
  {
   "cell_type": "code",
   "execution_count": null,
   "id": "1140b703-920e-4e7c-b1a7-851bc3d18808",
   "metadata": {},
   "outputs": [],
   "source": [
    "model.load_weights(PLACE BEST WEIGHTS HERE) # The one with highest epoch is usually the best \n",
    "# example : model.load_weights('./weights.377-0.85-0.78.h5')"
   ]
  },
  {
   "cell_type": "markdown",
   "id": "f02bcab3-4090-4c8f-8320-d0034d62d595",
   "metadata": {},
   "source": [
    "<h3> Next section displays the ROC-AUC, a metric commonly used to evaluate a ML model </h3>"
   ]
  },
  {
   "cell_type": "code",
   "execution_count": null,
   "id": "fd742130-db35-4af0-82b6-3e5525b553c0",
   "metadata": {},
   "outputs": [],
   "source": [
    "import sklearn\n",
    "from sklearn.metrics import roc_curve,roc_auc_score\n",
    "\n",
    "prediction_prob = np.round(model.predict(testX),2)\n",
    "validation = testY.values.tolist()\n",
    "validation = np.array(validation)\n",
    "validation = validation.flatten()\n",
    "auc_score=roc_auc_score(validation,prediction_prob)\n",
    "print(\"With a dropout of\",dropout,\"The AUC score is {:0.2f}\".format(auc_score),\"on test set\")\n",
    "#wandb.log({\"ROC\":plot_roc_curve(fpr,tpr)})   \n",
    "fpr , tpr , thresholds = roc_curve (validation , prediction_prob)\n",
    "plot_roc_curve(fpr,tpr)"
   ]
  },
  {
   "cell_type": "markdown",
   "id": "ac74cbde-9146-47fe-823e-881e880880a0",
   "metadata": {},
   "source": [
    "<h3> Next section displays the confidence of the model for the test predictions </h3>"
   ]
  },
  {
   "cell_type": "code",
   "execution_count": null,
   "id": "789188b9-12a2-4930-bd09-7f676439298c",
   "metadata": {},
   "outputs": [],
   "source": [
    "comparison = {'prob': prediction_prob.flatten(), 'label': validation}\n",
    "comparison = pd.DataFrame(comparison)\n",
    "comp = comparison.sort_values(by='prob')\n",
    "pd.set_option('display.max_columns', None)\n",
    "comp.T"
   ]
  },
  {
   "cell_type": "markdown",
   "id": "3133bab4-ef02-4bf9-a897-8e8ddfdc67c3",
   "metadata": {},
   "source": [
    "<h3> A few more metrics for the model performances such as Test Accuracy or Brier Score, a metric commonly used in climate forecasting </h3>"
   ]
  },
  {
   "cell_type": "code",
   "execution_count": null,
   "id": "62d2971e-e72f-494a-ba86-61293f0a64dd",
   "metadata": {},
   "outputs": [],
   "source": [
    "from sklearn.metrics import brier_score_loss\n",
    "\n",
    "loss = brier_score_loss(comp['label'],comp['prob'])\n",
    "prediction = list(map(lambda x: 0 if x<0.5 else 1, prediction_prob))\n",
    "\n",
    "print(\"With a dropout of 0.1, The AUC score is {:0.2f}\".format(auc_score),\"on test set\")\n",
    "print(\"The accuracy on test set is {:0.2f}\".format(sum([1 for i in range(len(prediction)) if prediction[i] == validation[i]])/len(prediction)*100))\n",
    "print('The Brier Score on test set is {:0.2f}.' .format(loss))"
   ]
  },
  {
   "cell_type": "markdown",
   "id": "2dc75b8b-99a5-4d6c-928b-8bdc0cd9105f",
   "metadata": {},
   "source": [
    "<h1>Prototype of implementation of B-LSTM model</h1>\n",
    "\n",
    "<h3>Using a function which, based on BLSTM output, 'walks' the fibonacci sequence up or down will make the model more robust to errors and will increases temporal resolution, a critical aspect of earthquake forecasting</h3>"
   ]
  },
  {
   "cell_type": "code",
   "execution_count": null,
   "id": "0ab5db84-edf3-4b7f-8c16-a2723918635c",
   "metadata": {},
   "outputs": [],
   "source": [
    "\n",
    "\n",
    "def fibonacci_sequence(list):\n",
    "    # If the result is above 10, log it with the message : 'Earthquake Risk is High, please evacuate immediately!'\n",
    "    n = 2\n",
    "    result = []\n",
    "    fibonacci = [0, 1, 1, 2, 3, 5, 8, 13, 21,34,55,89,144,233,377,610,987,1597,2584,4181]\n",
    "    for i in list:\n",
    "        if i == 0:\n",
    "            if n > 2:\n",
    "                print(fibonacci[n-1])\n",
    "                result.append(fibonacci[n-1])\n",
    "                if fibonacci[n-1] > 10:\n",
    "                    print(\"Earthquake Risk is High, please evacuate immediately!\")\n",
    "                n -= 1\t\n",
    "            else:\n",
    "                n = 2\n",
    "                print(fibonacci[n])\n",
    "                result.append(fibonacci[n])\n",
    "                if fibonacci[n] > 10:\n",
    "                    print(\"Earthquake Risk is High, please evacuate immediately!\")\n",
    "        elif i == 1:\n",
    "            print(fibonacci[n+1])\n",
    "            result.append(fibonacci[n+1])\n",
    "            if fibonacci[n+1] > 10:\n",
    "                print(\"Earthquake Risk is High, please evacuate immediately!\")\n",
    "            n += 1\n",
    "        else:\n",
    "            print(\"Invalid input\")\n",
    "\n",
    "    plt.plot(result)\n",
    "    plt.xticks(range(len(list)), list)\n",
    "    plt.xlabel('Model Output')\n",
    "    plt.ylabel('Fibonacci Sequence')\n",
    "    plt.axhline(y=10, color='orange', linestyle='-')\n",
    "    plt.axvline(x=len(list)-1, color='red', linestyle='-')\n",
    "    plt.legend(['Estimated Risk', 'Alert Threshold','Earthquake' ])\n",
    "    return result\n",
    "\n",
    "list = comp['label']\n",
    "fibonacci_sequence(list)\n",
    "\n"
   ]
  },
  {
   "cell_type": "markdown",
   "id": "b4371a2f-9572-4ea7-8316-3a3133e5d58f",
   "metadata": {},
   "source": [
    "<h1> Thank you for using this notebook! </h1>\n",
    "\n",
    "<!-- CONTACT -->\n",
    "## Contact\n",
    "\n",
    "Sinan Robillard - sinanrobillard@gmail.com\n",
    "\n",
    "Project Link: [https://github.com/Ashoka74/EQ_Forecast.git](https://github.com/Ashoka74/EQ_Forecast.git)\n",
    "\n",
    "\n",
    "\n",
    "<!-- THE TEAM -->\n",
    "## The Team\n",
    "\n",
    "* [Sinan Robillard](@Ashoka74)\n",
    "* [Marco Fernandez](@@marcofer-fernandez)\n",
    "* [Ojavsi Gupta](@ojasviG)\n",
    "\n",
    "\n"
   ]
  }
 ],
 "metadata": {
  "kernelspec": {
   "display_name": "default:Python",
   "language": "python",
   "name": "conda-env-default-py"
  },
  "language_info": {
   "codemirror_mode": {
    "name": "ipython",
    "version": 3
   },
   "file_extension": ".py",
   "mimetype": "text/x-python",
   "name": "python",
   "nbconvert_exporter": "python",
   "pygments_lexer": "ipython3",
   "version": "3.9.7"
  }
 },
 "nbformat": 4,
 "nbformat_minor": 5
}
